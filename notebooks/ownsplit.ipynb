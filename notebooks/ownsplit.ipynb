{
 "cells": [
  {
   "cell_type": "code",
   "execution_count": 7,
   "metadata": {},
   "outputs": [],
   "source": [
    "import csv\n",
    "import pandas as pd\n",
    "import progressbar\n",
    "import re\n",
    "import subprocess\n",
    "import swifter\n",
    "from os import path\n",
    "from multiprocessing.dummy import Pool\n",
    "from multiprocessing import cpu_count\n",
    "from sox import Transformer\n",
    "import numpy as np\n",
    "\n",
    "from sklearn.model_selection import train_test_split\n",
    "\n",
    "def _load_data_to_df(filename):\n",
    "  df = pd.read_csv(filename, \n",
    "    sep=\"\\t\",\n",
    "    parse_dates=False,\n",
    "    engine=\"python\",\n",
    "    encoding=\"utf-8\",\n",
    "    escapechar='\"',\n",
    "    error_bad_lines=False,\n",
    "    quotechar='\"',\n",
    "    quoting=csv.QUOTE_NONE,)\n",
    "\n",
    "  return df"
   ]
  },
  {
   "cell_type": "code",
   "execution_count": 8,
   "metadata": {},
   "outputs": [],
   "source": [
    "fn = \"../corpora/de/validated.tsv\"\n",
    "df = _load_data_to_df(fn)"
   ]
  },
  {
   "cell_type": "code",
   "execution_count": 9,
   "metadata": {},
   "outputs": [],
   "source": [
    "exclude = [\"053aa89d9504aaae023c15173563bd98e5169a2fad03ee4f52a5c2a477422dbb27e4ed20d45e8f6e93aa8b746014924f74c3bbee25d06d1595cad7f666c84ecc\",\n",
    "\"1a2d7aabfe35df518c54d3d38c45efa9e6661f865e250648f591f4cfdc0d1b7c221de4f342d90a8d40de1c625edc19f5420f349d6cc60a737bb3806368d03fc7\",\n",
    "\"43d29759464351bc5fbd88cf2a37be57ccfce9a70c48c5a6d46f4554908b9b178fc01da7395e08c824a5327731c9133aef3c098e3d13d60045c680c8f454f05f\",\n",
    "\"4eb15d7c36c9430d5f41ace420c1d4c40f9582e9f24511cb00323cab5cbe70c37f4b970cf257f357dbb3d25432e0a1444d2a5d67478af2d9473098358ac1efca\",\n",
    "\"515aad713795da6cb165f8082ca7d4b33e21fe388a00e976b6527ecaacf3cb4c5044186494de2884e896d7edb1c5fdf3d1be965a4c5e0eff09aa678314d58184\",\n",
    "\"5981d8284180ff4f98ea7b4e448f9dccbf2eb7c25534e6a0c76b8dfc97af680793f861327a2d0e56dc8f1e2cc95f9c6269ea8f631c059c4a86d5cb9f4db5dcad\",\n",
    "\"7541971bfd2281e398e2c8b63d8077b8417a7b771660a936e723699355789b89e0a3edf7b2afae3784e4e4040e4ee96fc64cfdfc0a4fe64cd58d062c14aca9a8\",\n",
    "\"947fcbafe7d501dae13c646d27fe572e483e8f5e72176d715dd65c505cbb7fb7e56a93bf855472f6ef530501a130d373c971a2161ef5f8e1b226b25f7c089668\",\n",
    "\"c944265bfe3554cc9d1b41a41487c33c5a94319ddbc344cb9a1896b11fec484841f8aa9faf9166227aa4ca370b8322a38338f9862fc628ae22d62d45408a2bad\",]\n",
    "\n",
    "\n",
    "\n",
    "df = df.loc[~df[\"path\"].isin(exclude)]"
   ]
  },
  {
   "cell_type": "code",
   "execution_count": 10,
   "metadata": {},
   "outputs": [
    {
     "data": {
      "text/plain": [
       "(76890, 25630, 25630)"
      ]
     },
     "execution_count": 10,
     "metadata": {},
     "output_type": "execute_result"
    }
   ],
   "source": [
    "train, validate, test = np.split(df.sample(frac=1, random_state=42), [int(.6*len(df)), int(.8*len(df))])\n",
    "len(train), len(validate) , len(test)"
   ]
  },
  {
   "cell_type": "code",
   "execution_count": 12,
   "metadata": {},
   "outputs": [],
   "source": [
    "train.to_csv(\"../corpora/de/train.tsv\", sep=\"\\t\", header=True, index=False, encoding=\"utf-8\", escapechar='\\\\', quoting=csv.QUOTE_NONE)\n",
    "validate.to_csv(\"../corpora/de/dev.tsv\", sep=\"\\t\", header=True, index=False, encoding=\"utf-8\", escapechar='\\\\', quoting=csv.QUOTE_NONE)\n",
    "test.to_csv(\"../corpora/de/test.tsv\", sep=\"\\t\", header=True, index=False, encoding=\"utf-8\", escapechar='\\\\', quoting=csv.QUOTE_NONE)"
   ]
  },
  {
   "cell_type": "code",
   "execution_count": null,
   "metadata": {},
   "outputs": [],
   "source": []
  }
 ],
 "metadata": {
  "kernelspec": {
   "display_name": "Python 3",
   "language": "python",
   "name": "python3"
  },
  "language_info": {
   "codemirror_mode": {
    "name": "ipython",
    "version": 3
   },
   "file_extension": ".py",
   "mimetype": "text/x-python",
   "name": "python",
   "nbconvert_exporter": "python",
   "pygments_lexer": "ipython3",
   "version": "3.7.2"
  }
 },
 "nbformat": 4,
 "nbformat_minor": 2
}
